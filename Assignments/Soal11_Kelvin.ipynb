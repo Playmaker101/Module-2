{
 "cells": [
  {
   "cell_type": "markdown",
   "metadata": {},
   "source": [
    "# **Modul 2: Data Analysis**\n",
    "# Inferential Statistics"
   ]
  },
  {
   "cell_type": "markdown",
   "metadata": {},
   "source": [
    "## **No.1**"
   ]
  },
  {
   "cell_type": "markdown",
   "metadata": {},
   "source": [
    "**Apa yang dimaksud dengan populasi dan sample? Berikan Contohnya!**\n",
    "\n",
    "Populasi: seluruh kelompok individu, objek, atau peristiwa yang memiliki karakteristik tertentu yang menjadi fokus penelitian.\\\n",
    "contoh : penelitian tentang tinggi badan semua siswa di sekolah, populasi Anda adalah semua siswa di sekolah tersebut.\\\n",
    "\n",
    "Sample : Subset atau bagian kecil dari populasi yang diobservasi atau diuji.\n",
    "contoh : saat mengamati tinggi badan 100 siswa dari sekolah tersebut, maka 100 siswa tersebut menjadi sample dari populasi seluruh siswa di sekolah.\n",
    "\n"
   ]
  },
  {
   "cell_type": "markdown",
   "metadata": {},
   "source": [
    "## **No.2**"
   ]
  },
  {
   "cell_type": "markdown",
   "metadata": {},
   "source": [
    " **Apa yang dimaksud dengan hipotesis? Apa perbedaan Null Hypothesis (Ho) dan Alternative Hypothesis (Ha)? Berikan contohnya!**\n",
    "\n",
    " Hipotesis: suatu pernyataan atau proposisi yang diajukan untuk diuji melalui suatu penelitian atau eksperimen.\\\n",
    "\n",
    "\n",
    " Hypothesis Testing: prediksi tentang hubungan antar variabel, perbandingan antar kelompok, atau ekspektasi lainnya yang ingin diuji kebenarannya.\\\n",
    " \n",
    "\n",
    " Ho vs Ha: **Null Hypothesis** adalah pernyataan yang menyatakan bahwa tidak ada efek atau hubungan yang signifikan antara variabel-variabel yang diuji. **Alternative Hypothesis** adalah pernyataan yang menyatakan bahwa terdapat efek atau hubungan yang signifikan antara variabel-variabel yang diuji.\\\n",
    "\n",
    "\n",
    " Contoh: Jika Anda ingin menguji apakah terdapat perbedaan rata-rata skor matematika antara siswa laki-laki dan siswa perempuan, Null Hypothesisnya bisa dirumuskan sebagai \"Tidak ada perbedaan signifikan dalam rata-rata skor matematika antara siswa laki-laki dan siswa perempuan.\" Alternative Hypothesisnya bisa dirumuskan sebagai \"Terdapat perbedaan signifikan dalam rata-rata skor matematika antara siswa laki-laki dan siswa perempuan.\"\n"
   ]
  },
  {
   "cell_type": "markdown",
   "metadata": {},
   "source": [
    "---\n",
    "### **One tail vs Two tail**"
   ]
  },
  {
   "cell_type": "markdown",
   "metadata": {},
   "source": [
    "\n",
    "#### Jika kita ingin melakukan eksperimen atau survey untuk membuktikan pertanyaan di bawah ini, uji apa yang lebih cocok (One tail test atau Two tail test)?\n",
    "\n",
    "1.\tApakah rata-rata tinggi orang Indonesia pada tahun 2000 dan 2020 berbeda?\n",
    "     \n",
    "2.\tApakah rata-rata nilai IELTS sekolah international di Jakarta lebih besar dari sekolah umum?\n",
    "    \n",
    "3.\tApakah orang yang rajin oleh raga sepeda memiliki kadar lemak tubuh lebih rendah dari orang yang jarang olah raga?  \n",
    "    \n",
    "4.\tApakah rata-rata satu karung kecil beras yang diproduksi oleh Company A adalah 5.000g?   \n",
    "    \n",
    "5.\tApakah jumlah siswa yang lulus UN tahun 2010 ada 95%? \n",
    "    \n"
   ]
  },
  {
   "cell_type": "markdown",
   "metadata": {},
   "source": [
    "1. Two-tail test \n",
    "2. One tail test\n",
    "3. One tail test\n",
    "4. Two-tail test\n",
    "5. Two-tail test"
   ]
  },
  {
   "cell_type": "markdown",
   "metadata": {},
   "source": [
    "---\n",
    "### **Hypothesis Testing**\n",
    "1.\tDari 5 provider internet di Indonesia, apakah semuanya memiliki rata-rata penghasilan yang sama di tahun 2020?\n",
    "\n",
    "2.\tApakah orang yang rajin oleh raga sepeda memiliki kadar lemak tubuh lebih rendah dari sebelum mereka berolah raga?\n",
    "\n",
    "3.\tApakah orang yang rajin oleh raga sepeda memiliki kadar lemak tubuh lebih rendah dari orang yang jarang olah raga?  \n",
    "\n",
    "4.\tApakah rata-rata satu karung kecil beras yang diproduksi oleh Company A adalah 5.000g?   \n",
    "\n",
    "5.\tApakah jumlah siswa yang lulus UN tahun 2010 ada 95%? \n"
   ]
  },
  {
   "cell_type": "markdown",
   "metadata": {},
   "source": [
    "1. Null Hypothesis (Ho): Rata-rata penghasilan dari kelima provider internet di Indonesia sama.\\\n",
    "   Alternative Hypothesis (Ha): Terdapat perbedaan signifikan dalam rata-rata penghasilan antara kelima provider internet di Indonesia.\n",
    "\n",
    "2. Null Hypothesis (Ho): Tidak ada perbedaan signifikan dalam kadar lemak tubuh sebelum dan setelah berolahraga sepeda.\\\n",
    "   Alternative Hypothesis (Ha): Terdapat perbedaan signifikan dalam kadar lemak tubuh, dengan kadar lemak tubuh setelah berolahraga sepeda lebih rendah.\n",
    "\n",
    "3. Null Hypothesis (Ho): Tidak ada perbedaan signifikan dalam kadar lemak tubuh antara orang yang rajin berolahraga sepeda dan orang yang jarang berolahraga.\\\n",
    "    Alternative Hypothesis (Ha): Terdapat perbedaan signifikan dalam kadar lemak tubuh, dengan kadar lemak tubuh orang yang rajin berolahraga sepeda lebih rendah daripada orang yang jarang berolahraga.\n",
    "    \n",
    "4. Null Hypothesis (Ho): Rata-rata satu karung kecil beras yang diproduksi oleh Company A sama dengan 5.000g.\\\n",
    "    Alternative Hypothesis (Ha): Rata-rata satu karung kecil beras yang diproduksi oleh Company A tidak sama dengan 5.000g.\n",
    "5. Null Hypothesis (Ho): Persentase siswa yang lulus UN tahun 2010 sama dengan 95%.\\\n",
    "    Alternative Hypothesis (Ha): Persentase siswa yang lulus UN tahun 2010 tidak sama dengan 95%.\n"
   ]
  },
  {
   "cell_type": "markdown",
   "metadata": {},
   "source": [
    "# **Exercise**\n",
    "\n",
    "Sementara, anggap semua data numerical terdistribusi normal.\n",
    "\n",
    "Lakukan uji statistik yang sesuai untuk kasus-kasus di bawah ini!"
   ]
  },
  {
   "cell_type": "code",
   "execution_count": 3,
   "metadata": {},
   "outputs": [],
   "source": [
    "# import libraries\n",
    "import numpy as np\n",
    "import pandas as pd\n",
    "import seaborn as sns\n",
    "import scipy.stats as stats"
   ]
  },
  {
   "cell_type": "code",
   "execution_count": 10,
   "metadata": {},
   "outputs": [
    {
     "data": {
      "text/html": [
       "<div>\n",
       "<style scoped>\n",
       "    .dataframe tbody tr th:only-of-type {\n",
       "        vertical-align: middle;\n",
       "    }\n",
       "\n",
       "    .dataframe tbody tr th {\n",
       "        vertical-align: top;\n",
       "    }\n",
       "\n",
       "    .dataframe thead th {\n",
       "        text-align: right;\n",
       "    }\n",
       "</style>\n",
       "<table border=\"1\" class=\"dataframe\">\n",
       "  <thead>\n",
       "    <tr style=\"text-align: right;\">\n",
       "      <th></th>\n",
       "      <th>brand</th>\n",
       "      <th>model</th>\n",
       "      <th>year</th>\n",
       "      <th>price</th>\n",
       "      <th>transmission</th>\n",
       "      <th>mileage</th>\n",
       "      <th>fuelType</th>\n",
       "      <th>tax</th>\n",
       "      <th>mpg</th>\n",
       "      <th>engineSize</th>\n",
       "    </tr>\n",
       "  </thead>\n",
       "  <tbody>\n",
       "    <tr>\n",
       "      <th>0</th>\n",
       "      <td>Audi</td>\n",
       "      <td>A1</td>\n",
       "      <td>2017</td>\n",
       "      <td>12500</td>\n",
       "      <td>Manual</td>\n",
       "      <td>15735</td>\n",
       "      <td>Petrol</td>\n",
       "      <td>150</td>\n",
       "      <td>55.4</td>\n",
       "      <td>1.4</td>\n",
       "    </tr>\n",
       "    <tr>\n",
       "      <th>1</th>\n",
       "      <td>Audi</td>\n",
       "      <td>A6</td>\n",
       "      <td>2016</td>\n",
       "      <td>16500</td>\n",
       "      <td>Automatic</td>\n",
       "      <td>36203</td>\n",
       "      <td>Diesel</td>\n",
       "      <td>20</td>\n",
       "      <td>64.2</td>\n",
       "      <td>2.0</td>\n",
       "    </tr>\n",
       "    <tr>\n",
       "      <th>2</th>\n",
       "      <td>Audi</td>\n",
       "      <td>A1</td>\n",
       "      <td>2016</td>\n",
       "      <td>11000</td>\n",
       "      <td>Manual</td>\n",
       "      <td>29946</td>\n",
       "      <td>Petrol</td>\n",
       "      <td>30</td>\n",
       "      <td>55.4</td>\n",
       "      <td>1.4</td>\n",
       "    </tr>\n",
       "    <tr>\n",
       "      <th>3</th>\n",
       "      <td>Audi</td>\n",
       "      <td>A4</td>\n",
       "      <td>2017</td>\n",
       "      <td>16800</td>\n",
       "      <td>Automatic</td>\n",
       "      <td>25952</td>\n",
       "      <td>Diesel</td>\n",
       "      <td>145</td>\n",
       "      <td>67.3</td>\n",
       "      <td>2.0</td>\n",
       "    </tr>\n",
       "    <tr>\n",
       "      <th>4</th>\n",
       "      <td>Audi</td>\n",
       "      <td>A3</td>\n",
       "      <td>2019</td>\n",
       "      <td>17300</td>\n",
       "      <td>Manual</td>\n",
       "      <td>1998</td>\n",
       "      <td>Petrol</td>\n",
       "      <td>145</td>\n",
       "      <td>49.6</td>\n",
       "      <td>1.0</td>\n",
       "    </tr>\n",
       "  </tbody>\n",
       "</table>\n",
       "</div>"
      ],
      "text/plain": [
       "  brand model  year  price transmission  mileage fuelType  tax   mpg  \\\n",
       "0  Audi    A1  2017  12500       Manual    15735   Petrol  150  55.4   \n",
       "1  Audi    A6  2016  16500    Automatic    36203   Diesel   20  64.2   \n",
       "2  Audi    A1  2016  11000       Manual    29946   Petrol   30  55.4   \n",
       "3  Audi    A4  2017  16800    Automatic    25952   Diesel  145  67.3   \n",
       "4  Audi    A3  2019  17300       Manual     1998   Petrol  145  49.6   \n",
       "\n",
       "   engineSize  \n",
       "0         1.4  \n",
       "1         2.0  \n",
       "2         1.4  \n",
       "3         2.0  \n",
       "4         1.0  "
      ]
     },
     "execution_count": 10,
     "metadata": {},
     "output_type": "execute_result"
    }
   ],
   "source": [
    "df_car = pd.read_csv('all_cars.csv').drop(columns='Unnamed: 0')\n",
    "df_car.head()"
   ]
  },
  {
   "cell_type": "markdown",
   "metadata": {},
   "source": [
    "Null Hypothesis (Ho): harga mobil Automatic dari Hyundai sama dengan harga mobil Automatic dari Toyota.\\\n",
    "Alternative Hypothesis (Ha): harga mobil Automatic dari Hyundai tidak sama dengan harga mobil Automatic dari Toyota."
   ]
  },
  {
   "cell_type": "markdown",
   "metadata": {},
   "source": [
    "### **No.1**\n",
    "\n",
    "Apakah mobil Automatic dari Hyundai dan Toyota memiliki harga yang berbeda? Buktikan dengan\n",
    "Uji Statistik?"
   ]
  },
  {
   "cell_type": "code",
   "execution_count": 33,
   "metadata": {},
   "outputs": [],
   "source": [
    "group1 = df_car[df_car['brand'] == 'Hyundai']['price']\n",
    "group2 = df_car[df_car['brand'] == 'Toyota']['price']\n",
    "t_statistic, p_value = stats.ttest_ind(group1, group2)\n",
    "\n",
    "t_statistic, p_value = stats.ttest_ind(group1, group2)"
   ]
  },
  {
   "cell_type": "code",
   "execution_count": 34,
   "metadata": {},
   "outputs": [
    {
     "name": "stdout",
     "output_type": "stream",
     "text": [
      "Accept the null hypothesis, harga mobil Automatic dari Hyundai sama dengan harga mobil Automatic dari Toyota\n"
     ]
    }
   ],
   "source": [
    "alpha = 0.05\n",
    "\n",
    "if p_value < alpha:\n",
    "    print(\"Reject the null hypothesis, harga mobil Automatic dari Hyundai tidak sama dengan harga mobil Automatic dari Toyota\")\n",
    "else:\n",
    "    print(\"Accept the null hypothesis, harga mobil Automatic dari Hyundai sama dengan harga mobil Automatic dari Toyota\")"
   ]
  },
  {
   "cell_type": "markdown",
   "metadata": {},
   "source": [
    "### **No.2**\n",
    "\n",
    "Apakah jarak tempuh (mileage) semua brand mobil keluaran tahun 2019 sama? Buktikan dengan Uji Statistik!"
   ]
  },
  {
   "cell_type": "code",
   "execution_count": 35,
   "metadata": {},
   "outputs": [
    {
     "data": {
      "text/plain": [
       "(46.50812541642219, 6.97999874993723e-21)"
      ]
     },
     "execution_count": 35,
     "metadata": {},
     "output_type": "execute_result"
    }
   ],
   "source": [
    "brand1 = df_car[df_car['brand'] == 'Hyundai']['mileage']\n",
    "brand2 = df_car[df_car['brand'] == 'Toyota']['mileage']\n",
    "brand3 = df_car[df_car['brand'] == 'Audi']['mileage']\n",
    "\n",
    "f_statistic, p_value = stats.f_oneway(brand1, brand2, brand3)\n",
    "f_statistic, p_value"
   ]
  },
  {
   "cell_type": "code",
   "execution_count": 36,
   "metadata": {},
   "outputs": [
    {
     "name": "stdout",
     "output_type": "stream",
     "text": [
      "Reject the null hypothesis, ada perbedaan signifikan dalam jarak tempuh antara brand\n"
     ]
    }
   ],
   "source": [
    "alpha = 0.05\n",
    "\n",
    "if p_value < alpha:\n",
    "    print(\"Reject the null hypothesis, ada perbedaan signifikan dalam jarak tempuh antara brand\")\n",
    "else:\n",
    "    print(\"Fail to reject the null hypothesis, tidak ada perbedaan signifikan dalam jarak tempuh antara brand\")"
   ]
  },
  {
   "cell_type": "markdown",
   "metadata": {},
   "source": [
    "### **No.3**\n",
    "\n",
    "Apakah rata-rata nilai mpg dari semua mobil adalah 53 mpg! Buktikan dengan Uji Statistik!"
   ]
  },
  {
   "cell_type": "code",
   "execution_count": 37,
   "metadata": {},
   "outputs": [
    {
     "data": {
      "text/plain": [
       "(21.638867192240966, 8.862254979651258e-103)"
      ]
     },
     "execution_count": 37,
     "metadata": {},
     "output_type": "execute_result"
    }
   ],
   "source": [
    "mpg_values = df_car['mpg']\n",
    "test_value = 53\n",
    "\n",
    "t_statistic, p_value = stats.ttest_1samp(mpg_values, test_value)\n",
    "\n",
    "t_statistic, p_value"
   ]
  },
  {
   "cell_type": "code",
   "execution_count": 38,
   "metadata": {},
   "outputs": [
    {
     "name": "stdout",
     "output_type": "stream",
     "text": [
      "Reject the null hypothesis, rata-rata nilai mpg tidak sama dengan 53 mpg\n"
     ]
    }
   ],
   "source": [
    "alpha = 0.05\n",
    "\n",
    "if p_value < alpha:\n",
    "    print(f\"Reject the null hypothesis, rata-rata nilai mpg tidak sama dengan {test_value} mpg\")\n",
    "else:\n",
    "    print(f\"Fail to reject the null hypothesis, rata-rata nilai mpg sama dengan {test_value} mpg\")"
   ]
  },
  {
   "cell_type": "code",
   "execution_count": null,
   "metadata": {},
   "outputs": [],
   "source": []
  },
  {
   "cell_type": "code",
   "execution_count": null,
   "metadata": {},
   "outputs": [],
   "source": []
  },
  {
   "cell_type": "code",
   "execution_count": null,
   "metadata": {},
   "outputs": [],
   "source": []
  },
  {
   "cell_type": "code",
   "execution_count": null,
   "metadata": {},
   "outputs": [],
   "source": []
  },
  {
   "cell_type": "code",
   "execution_count": null,
   "metadata": {},
   "outputs": [],
   "source": []
  },
  {
   "cell_type": "code",
   "execution_count": null,
   "metadata": {},
   "outputs": [],
   "source": []
  },
  {
   "cell_type": "code",
   "execution_count": null,
   "metadata": {},
   "outputs": [],
   "source": []
  },
  {
   "cell_type": "code",
   "execution_count": null,
   "metadata": {},
   "outputs": [],
   "source": []
  },
  {
   "cell_type": "code",
   "execution_count": null,
   "metadata": {},
   "outputs": [],
   "source": []
  },
  {
   "cell_type": "code",
   "execution_count": null,
   "metadata": {},
   "outputs": [],
   "source": []
  },
  {
   "cell_type": "code",
   "execution_count": null,
   "metadata": {},
   "outputs": [],
   "source": []
  }
 ],
 "metadata": {
  "kernelspec": {
   "display_name": "Python 3 (ipykernel)",
   "language": "python",
   "name": "python3"
  },
  "language_info": {
   "codemirror_mode": {
    "name": "ipython",
    "version": 3
   },
   "file_extension": ".py",
   "mimetype": "text/x-python",
   "name": "python",
   "nbconvert_exporter": "python",
   "pygments_lexer": "ipython3",
   "version": "3.11.5"
  },
  "vscode": {
   "interpreter": {
    "hash": "26d83cb9ebc769f8a392797c85547e3220df367d4f886ed011b3f771d6a84444"
   }
  }
 },
 "nbformat": 4,
 "nbformat_minor": 4
}
